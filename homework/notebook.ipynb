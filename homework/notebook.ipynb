{
 "cells": [
  {
   "cell_type": "code",
   "execution_count": 1,
   "metadata": {},
   "outputs": [],
   "source": [
    "import pandas as pd\n",
    "import gzip\n",
    "import pickle\n",
    "import json\n",
    "from sklearn.pipeline import Pipeline\n",
    "from sklearn.compose import ColumnTransformer\n",
    "from sklearn.preprocessing import OneHotEncoder\n",
    "from sklearn.feature_selection import SelectKBest, f_classif\n",
    "from sklearn.decomposition import PCA\n",
    "from sklearn.preprocessing import StandardScaler\n",
    "from sklearn.neural_network import MLPClassifier\n",
    "from sklearn.metrics import accuracy_score, balanced_accuracy_score, precision_score, recall_score, f1_score, confusion_matrix\n",
    "from sklearn.model_selection import GridSearchCV\n",
    "import os\n",
    "from glob import glob "
   ]
  },
  {
   "cell_type": "code",
   "execution_count": 2,
   "metadata": {},
   "outputs": [],
   "source": [
    "# Cargar datos\n",
    "def load_data():\n",
    "\n",
    "    dataframe_test = pd.read_csv(\n",
    "        \"../files/input/test_data.csv.zip\",\n",
    "        index_col=False,\n",
    "        compression=\"zip\",\n",
    "    )\n",
    "\n",
    "    dataframe_train = pd.read_csv(\n",
    "        \"../files/input/train_data.csv.zip\",\n",
    "        index_col = False,\n",
    "        compression =\"zip\",\n",
    "    )\n",
    "\n",
    "    return dataframe_train, dataframe_test"
   ]
  },
  {
   "cell_type": "code",
   "execution_count": 3,
   "metadata": {},
   "outputs": [],
   "source": [
    "def clean_data(df):\n",
    "    df_copy = df.copy()\n",
    "    df_copy = df_copy.rename(columns={'default payment next month' : \"default\"})\n",
    "    df_copy = df_copy.drop(columns=[\"ID\"])\n",
    "    df_copy = df_copy.loc[df[\"MARRIAGE\"] != 0]\n",
    "    df_copy = df_copy.loc[df[\"EDUCATION\"] != 0]\n",
    "    df_copy[\"EDUCATION\"] = df_copy[\"EDUCATION\"].apply(lambda x: 4 if x >= 4 else x)\n",
    "    df_copy = df_copy.dropna()\n",
    "    return df_copy\n",
    "\n",
    "def split_data(df):\n",
    "    #X , Y\n",
    "    return df.drop(columns=[\"default\"]), df[\"default\"]"
   ]
  },
  {
   "cell_type": "code",
   "execution_count": 4,
   "metadata": {},
   "outputs": [],
   "source": [
    "def make_pipeline(x_train):\n",
    "    categorical_features = [\"SEX\", \"EDUCATION\", \"MARRIAGE\"]\n",
    "    numerical_features = [col for col in x_train.columns if col not in categorical_features]\n",
    "\n",
    "    preprocessor = ColumnTransformer(\n",
    "        transformers=[\n",
    "            ('cat', OneHotEncoder(), categorical_features),\n",
    "            ('scaler', StandardScaler(), numerical_features),\n",
    "        ]\n",
    "    )\n",
    "\n",
    "\n",
    "    pipeline = Pipeline([\n",
    "        (\"preprocessor\", preprocessor),\n",
    "        ('feature_selection', SelectKBest(score_func=f_classif)),  \n",
    "        ('pca', PCA()),\n",
    "        ('classifier', MLPClassifier(max_iter=15000,random_state=21))\n",
    "    ])\n",
    "\n",
    "    return pipeline"
   ]
  },
  {
   "cell_type": "code",
   "execution_count": 5,
   "metadata": {},
   "outputs": [],
   "source": [
    "def create_estimator(pipeline):\n",
    "    # Definición de la malla de parámetros para la búsqueda\n",
    "    param_grid = {\n",
    "        \"pca__n_components\": [None],\n",
    "        \"feature_selection__k\": [20],\n",
    "        \"classifier__hidden_layer_sizes\": [(50, 30, 40, 60)],\n",
    "        \"classifier__alpha\": [0.26],\n",
    "        'classifier__learning_rate_init': [0.001],\n",
    "    }\n",
    "   \n",
    "\n",
    "    # Configuración de GridSearchCV para la validación cruzada\n",
    "    grid_search = GridSearchCV(\n",
    "        estimator=pipeline,           # Pipeline que incluye el preprocesamiento y el clasificador\n",
    "        param_grid=param_grid,        # Hiperparámetros a optimizar\n",
    "        cv=10,                        # 10 divisiones para la validación cruzada\n",
    "        scoring='balanced_accuracy',\n",
    "        n_jobs=-1,\n",
    "        refit=True \n",
    "      \n",
    "    )\n",
    "\n",
    "    return grid_search"
   ]
  },
  {
   "cell_type": "code",
   "execution_count": 6,
   "metadata": {},
   "outputs": [],
   "source": [
    "def _create_output_directory(output_directory):\n",
    "    if os.path.exists(output_directory):\n",
    "        for file in glob(f\"{output_directory}/*\"):\n",
    "            os.remove(file)\n",
    "        os.rmdir(output_directory)\n",
    "    os.makedirs(output_directory)\n",
    "\n",
    "def _save_model(path, estimator):\n",
    "    _create_output_directory(\"../files/models/\")  # Verifica que el directorio se gestione correctamente.\n",
    "\n",
    "    with gzip.open(path, \"wb\") as f:  # Abre el archivo comprimido en modo escritura binaria.\n",
    "        pickle.dump(estimator, f)"
   ]
  },
  {
   "cell_type": "code",
   "execution_count": 7,
   "metadata": {},
   "outputs": [],
   "source": [
    "def calculate_metrics(dataset_type, y_true, y_pred):\n",
    "    \"\"\"Calculate metrics\"\"\"\n",
    "    return {\n",
    "        \"type\": \"metrics\",\n",
    "        \"dataset\": dataset_type,\n",
    "        \"precision\": precision_score(y_true, y_pred, zero_division=0),\n",
    "        \"balanced_accuracy\": balanced_accuracy_score(y_true, y_pred),\n",
    "        \"recall\": recall_score(y_true, y_pred, zero_division=0),\n",
    "        \"f1_score\": f1_score(y_true, y_pred, zero_division=0),\n",
    "    }\n",
    "    "
   ]
  },
  {
   "cell_type": "code",
   "execution_count": 8,
   "metadata": {},
   "outputs": [],
   "source": [
    "def calculate_confusion(dataset_type, y_true, y_pred):\n",
    "    \"\"\"Confusion matrix\"\"\"\n",
    "    cm = confusion_matrix(y_true, y_pred)\n",
    "    return {\n",
    "        \"type\": \"cm_matrix\",\n",
    "        \"dataset\": dataset_type,\n",
    "        \"true_0\": {\"predicted_0\": int(cm[0][0]), \"predicted_1\": int(cm[0][1])},\n",
    "        \"true_1\": {\"predicted_0\": int(cm[1][0]), \"predicted_1\": int(cm[1][1])},\n",
    "    }"
   ]
  },
  {
   "cell_type": "code",
   "execution_count": 9,
   "metadata": {},
   "outputs": [],
   "source": [
    "def save():\n",
    "    data_train, data_test = load_data()\n",
    "    data_train = clean_data(data_train)\n",
    "    data_test = clean_data(data_test)\n",
    "    x_train, y_train = split_data(data_train)\n",
    "    x_test, y_test = split_data(data_test)\n",
    "    pipeline = make_pipeline(x_train)\n",
    "\n",
    "    estimator = create_estimator(pipeline)\n",
    "    estimator.fit(x_train, y_train)\n",
    "\n",
    "    _save_model(\n",
    "        os.path.join(\"../files/models/\", \"model.pkl.gz\"),\n",
    "        estimator,\n",
    "    )\n",
    "\n",
    "    y_test_pred = estimator.predict(x_test)\n",
    "    test_precision_metrics = calculate_metrics(\"test\", y_test, y_test_pred)\n",
    "    y_train_pred = estimator.predict(x_train)\n",
    "    train_precision_metrics = calculate_metrics(\"train\", y_train, y_train_pred)\n",
    "\n",
    "    test_confusion_metrics = calculate_confusion(\"test\", y_test, y_test_pred)\n",
    "    train_confusion_metrics = calculate_confusion(\"train\", y_train, y_train_pred)\n",
    "\n",
    "    os.makedirs(\"../files/output/\", exist_ok=True)\n",
    "\n",
    "    with open(\"../files/output/metrics.json\", \"w\", encoding=\"utf-8\") as file:\n",
    "        file.write(json.dumps(train_precision_metrics) + \"\\n\")\n",
    "        file.write(json.dumps(test_precision_metrics) + \"\\n\")\n",
    "        file.write(json.dumps(train_confusion_metrics) + \"\\n\")\n",
    "        file.write(json.dumps(test_confusion_metrics) + \"\\n\")"
   ]
  },
  {
   "cell_type": "code",
   "execution_count": 10,
   "metadata": {},
   "outputs": [],
   "source": [
    "save()"
   ]
  }
 ],
 "metadata": {
  "kernelspec": {
   "display_name": ".venv",
   "language": "python",
   "name": "python3"
  },
  "language_info": {
   "codemirror_mode": {
    "name": "ipython",
    "version": 3
   },
   "file_extension": ".py",
   "mimetype": "text/x-python",
   "name": "python",
   "nbconvert_exporter": "python",
   "pygments_lexer": "ipython3",
   "version": "3.13.1"
  }
 },
 "nbformat": 4,
 "nbformat_minor": 2
}
